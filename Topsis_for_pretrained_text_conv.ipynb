{
  "nbformat": 4,
  "nbformat_minor": 0,
  "metadata": {
    "colab": {
      "provenance": []
    },
    "kernelspec": {
      "name": "python3",
      "display_name": "Python 3"
    },
    "language_info": {
      "name": "python"
    }
  },
  "cells": [
    {
      "cell_type": "code",
      "execution_count": 1,
      "metadata": {
        "id": "5nl2Q6bpYKhp"
      },
      "outputs": [],
      "source": [
        "# Step 1: Import necessary libraries\n",
        "import numpy as np\n",
        "import pandas as pd\n",
        "import matplotlib.pyplot as plt\n",
        "\n",
        "\n",
        "\n"
      ]
    },
    {
      "cell_type": "code",
      "source": [
        "# Step 2: Define models and evaluation criteria\n",
        "models = [\"GPT-4\", \"LLaMA 2\", \"Mistral\", \"Gemini\", \"Falcon\"]\n",
        "criteria = [\"Accuracy\", \"BLEU Score\", \"Perplexity\", \"Latency\"]\n",
        "\n"
      ],
      "metadata": {
        "id": "y2M4cf0SYLlS"
      },
      "execution_count": 2,
      "outputs": []
    },
    {
      "cell_type": "code",
      "source": [
        "# Step 3: Construct the decision matrix\n",
        "decision_matrix = np.array([\n",
        "    [0.92, 0.87, 10, 0.5],  # GPT-4\n",
        "    [0.88, 0.85, 12, 0.6],  # LLaMA 2\n",
        "    [0.90, 0.86, 11, 0.55], # Mistral\n",
        "    [0.89, 0.84, 13, 0.65], # Gemini\n",
        "    [0.87, 0.83, 14, 0.7]   # Falcon\n",
        "])\n",
        "\n"
      ],
      "metadata": {
        "id": "G7RVpK7qZni1"
      },
      "execution_count": 3,
      "outputs": []
    },
    {
      "cell_type": "code",
      "source": [
        "# Step 4: Normalize the decision matrix using the formula:\n",
        "# r_ij = x_ij / sqrt(sum(x_ij^2))\n",
        "norm_matrix = decision_matrix / np.sqrt((decision_matrix**2).sum(axis=0))\n",
        "\n",
        "# Step 5: Define weights for each criterion\n",
        "weights = np.array([0.25, 0.25, 0.25, 0.25])\n"
      ],
      "metadata": {
        "id": "gTzhwboeZq3R"
      },
      "execution_count": 4,
      "outputs": []
    },
    {
      "cell_type": "code",
      "source": [
        "\n",
        "# Step 6: Compute weighted normalized decision matrix using:\n",
        "# v_ij = r_ij * w_j\n",
        "weighted_matrix = norm_matrix * weights\n",
        "\n",
        "# Step 7: Identify the ideal best and worst solutions using:\n",
        "# v_j^+ = max(v_ij) for benefit criteria, min(v_ij) for cost criteria\n",
        "# v_j^- = min(v_ij) for benefit criteria, max(v_ij) for cost criteria\n",
        "ideal_best = np.array([max(weighted_matrix[:, i]) if i < 2 else min(weighted_matrix[:, i]) for i in range(len(criteria))])\n",
        "ideal_worst = np.array([min(weighted_matrix[:, i]) if i < 2 else max(weighted_matrix[:, i]) for i in range(len(criteria))])\n",
        "\n"
      ],
      "metadata": {
        "id": "QSSUTgPFZuyX"
      },
      "execution_count": 5,
      "outputs": []
    },
    {
      "cell_type": "code",
      "source": [
        "# Step 8: Calculate Euclidean distances to ideal best and worst using:\n",
        "# S_i^+ = sqrt(sum((v_ij - v_j^+)^2))\n",
        "# S_i^- = sqrt(sum((v_ij - v_j^-)^2))\n",
        "distance_best = np.sqrt(((weighted_matrix - ideal_best) ** 2).sum(axis=1))\n",
        "distance_worst = np.sqrt(((weighted_matrix - ideal_worst) ** 2).sum(axis=1))\n",
        "\n"
      ],
      "metadata": {
        "id": "45sO8vafZxdl"
      },
      "execution_count": 6,
      "outputs": []
    },
    {
      "cell_type": "code",
      "source": [
        "# Step 9: Compute TOPSIS scores using:\n",
        "# C_i = S_i^- / (S_i^+ + S_i^-)\n",
        "scores = distance_worst / (distance_best + distance_worst)\n",
        "\n",
        "\n"
      ],
      "metadata": {
        "id": "sAOoE_PbZzX_"
      },
      "execution_count": 7,
      "outputs": []
    },
    {
      "cell_type": "code",
      "source": [
        "# Step 10: Rank the models\n",
        "ranking = np.argsort(scores)[::-1]\n",
        "ranked_models = [models[i] for i in ranking]\n",
        "\n"
      ],
      "metadata": {
        "id": "S-1V0uEWZ1uv"
      },
      "execution_count": 8,
      "outputs": []
    },
    {
      "cell_type": "code",
      "source": [
        "# Step 11: Create a results DataFrame\n",
        "results_df = pd.DataFrame({\n",
        "    \"Model\": models,\n",
        "    \"TOPSIS Score\": scores,\n",
        "    \"Rank\": np.argsort(-scores) + 1\n",
        "})\n",
        "# Step 12: Display results\n",
        "print(results_df.sort_values(by=\"Rank\"))\n",
        "\n"
      ],
      "metadata": {
        "colab": {
          "base_uri": "https://localhost:8080/"
        },
        "id": "elyDaQOhZ358",
        "outputId": "c5845812-a383-4f2e-d39c-312c09228f1d"
      },
      "execution_count": 9,
      "outputs": [
        {
          "output_type": "stream",
          "name": "stdout",
          "text": [
            "     Model  TOPSIS Score  Rank\n",
            "0    GPT-4      1.000000     1\n",
            "2  Mistral      0.747495     2\n",
            "1  LLaMA 2      0.495824     3\n",
            "3   Gemini      0.252505     4\n",
            "4   Falcon      0.000000     5\n"
          ]
        }
      ]
    },
    {
      "cell_type": "code",
      "source": [
        "# Step 13: Visualize results with a bar chart\n",
        "plt.figure(figsize=(10, 6))\n",
        "plt.bar(ranked_models, sorted(scores, reverse=True), color='skyblue')\n",
        "plt.xlabel(\"Models\")\n",
        "plt.ylabel(\"TOPSIS Score\")\n",
        "plt.title(\"Ranking of Pre-Trained Conversational AI Models\")\n",
        "plt.show()"
      ],
      "metadata": {
        "colab": {
          "base_uri": "https://localhost:8080/",
          "height": 564
        },
        "id": "6QT-k024Z7Pr",
        "outputId": "c01a62c6-c220-4e15-d971-924baf9d68a2"
      },
      "execution_count": 10,
      "outputs": [
        {
          "output_type": "display_data",
          "data": {
            "text/plain": [
              "<Figure size 1000x600 with 1 Axes>"
            ],
            "image/png": "[encoded data removed]"
          },
          "metadata": {}
        }
      ]
    }
  ]
}